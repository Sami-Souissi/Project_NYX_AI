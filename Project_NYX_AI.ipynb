{
  "cells": [
    {
      "cell_type": "code",
      "source": [
        "# @title {display-mode:\"form\"}\n",
        "# @markdown <br/><br/><center><img src=\"/content/logo.png\" height=\"150\"></center><br/>\n",
        "# @markdown <center><h1>Project NYX AI</h1></center><center><b>By Sami Souissi</b></center>\n",
        "!CT_CUBLAS=1 pip install ctransformers --no-binary ctransformers\n",
        "!pip install langchain==0.0.234 openai==0.27.8 python-dotenv==1.0.0 streamlit\n",
        "# Install pipx using the following command\n",
        "!python3 -m pip install --user pipx\n",
        "\n",
        "# Add the pipx binary directory to the PATH\n",
        "import os\n",
        "os.environ['PATH'] += \":/root/.local/bin\"\n",
        "\n",
        "# Verify the installation\n",
        "!pipx --version\n",
        "!apt install python3.10-venv\n",
        "!pipx install shell-genie\n",
        "%cd /content\n",
        "!sudo chmod 600 app.py\n",
        "!npm install localtunnel\n",
        "!shell-genie init"
      ],
      "metadata": {
        "id": "KtMPCCp9sRDk"
      },
      "execution_count": null,
      "outputs": []
    },
    {
      "cell_type": "code",
      "source": [
        "# @markdown <div style=\"display: flex; align-items: center;\"><img src=\"https://seeklogo.com/images/S/streamlit-logo-1A3B208AE4-seeklogo.com.png\" alt=\"Streamlit Logo\" height=\"50\"><h2>Run The Streamlit APP</h2></div>\n",
        "!streamlit run app.py &>/content/logs.txt &"
      ],
      "metadata": {
        "cellView": "form",
        "id": "SWGhPeaBcLrE"
      },
      "execution_count": 14,
      "outputs": []
    },
    {
      "cell_type": "code",
      "execution_count": 15,
      "metadata": {
        "id": "s60YHAcHgoZb",
        "colab": {
          "base_uri": "https://localhost:8080/"
        },
        "cellView": "form",
        "outputId": "4b8f513c-bc4a-49b9-8802-e3a42eb5d051"
      },
      "outputs": [
        {
          "output_type": "stream",
          "name": "stdout",
          "text": [
            "35.224.84.215\n"
          ]
        }
      ],
      "source": [
        "# @markdown <h2>🔑 Get the tunnel password</h2>\n",
        "!grep \"External URL\" logs.txt | awk '{print $NF}' | sed 's/^http:\\/\\/\\(.*\\):.*/\\1/'"
      ]
    },
    {
      "cell_type": "code",
      "execution_count": 16,
      "metadata": {
        "colab": {
          "base_uri": "https://localhost:8080/"
        },
        "id": "YAt9ENNPopSL",
        "outputId": "d2ba7a5c-27ea-4517-ebff-68942b885bf1",
        "cellView": "form"
      },
      "outputs": [
        {
          "output_type": "stream",
          "name": "stdout",
          "text": [
            "\u001b[K\u001b[?25hnpx: installed 22 in 2.03s\n",
            "your url is: https://swift-colts-itch.loca.lt\n",
            "^C\n"
          ]
        }
      ],
      "source": [
        "# @markdown <h2>🛡️ Get the secure tunnel link </h2>\n",
        "!npx localtunnel --port 8501"
      ]
    },
    {
      "cell_type": "markdown",
      "metadata": {
        "id": "0Fbc-POUHbcN"
      },
      "source": [
        "---"
      ]
    }
  ],
  "metadata": {
    "accelerator": "GPU",
    "colab": {
      "provenance": []
    },
    "kernelspec": {
      "display_name": "Python 3",
      "name": "python3"
    },
    "language_info": {
      "name": "python"
    }
  },
  "nbformat": 4,
  "nbformat_minor": 0
}